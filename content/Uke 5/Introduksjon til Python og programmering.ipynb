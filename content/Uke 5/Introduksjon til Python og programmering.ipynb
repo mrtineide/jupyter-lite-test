{
 "cells": [
  {
   "cell_type": "markdown",
   "id": "f52d30ab-84b5-4b85-a00f-22353e2bbb6b",
   "metadata": {},
   "source": [
    "# Introduksjon til Python og programmering!\n",
    "\n",
    "Det du leser på nå er en notatbok! (Jupyter Notebook er navnet) \n",
    "\n",
    "Denne notatboken er spesiell. Med en slik notatbok kan du gjøre mange forskjellige ting. \n",
    "Du kan skrive tekst som du leser nå. (Markdown + HTML heter tekst-språkene)\n",
    "\n",
    "__Det som gjør denne notatboken spesiell er at du kan skrive og kjøre Python kode i en og samme bok!__\n",
    "\n",
    "Det __du__ skal gjøre mest er å lese tekst og kode, kjøre og skrive kode, i en og samme notatbok."
   ]
  },
  {
   "cell_type": "markdown",
   "id": "cef2b570-956f-42b4-be26-a89e229e3f8a",
   "metadata": {},
   "source": [
    "## Programmering\n",
    "\n",
    "### Hva er programmering?\n",
    "\n",
    "Programmering kan sammenlignes med å gi instruksjoner til en robot eller et menneske. Vi gir instruksjoner til roboten eller menneske hvor den skal gå, for eksempel for å hjelpe å finne fram veien gjennom en labyrint. På samme måte kan vi gi instruksjoner til en datamaskin om hva den skal gjøre. Noe av det enkleste en datamaskin kan gjøre er å følge matematiske instruksjoner, som å plusse sammen to tall, gange eller dele, og så videre. For å gjøre mer avanserte ting som spill må man gi mange kompliserte instruksjoner til datamaskinen."
   ]
  },
  {
   "cell_type": "markdown",
   "id": "1e401539-91f5-4c5c-a591-83820904ea70",
   "metadata": {
    "jp-MarkdownHeadingCollapsed": true
   },
   "source": [
    "### Programmeringsspråket Python\n",
    "\n",
    "Python er et programmeringsspråk. Programmeringsspråk kan ligne på fremmedspråk som tysk, spansk eller engelsk. For å snakke med en tysker så snakker man språket tysk for å forstå hverandre. \n",
    "\n",
    "Det samme gjelder programmeringsspråk. Python er et språk datamaskinen kan som vi bruker til å få datamaskinen til å forstå oss.\n",
    "\n",
    "Datamaskiner forstår ikke Python av seg selv. De trenger et program som oversetter Python til et språk datamaskinen forstår. Dette programmet heter Python (_det sammme som programmeringsspråket_). __Python er nemlig både et programmeringsspråk som man kan skrive kode i, men også et program.__\n",
    "\n",
    "\n",
    "\n",
    "<div>\n",
    "    <details>\n",
    "        <summary><em>Trykk her for mer info ▶</em></summary>\n",
    "        <br>\n",
    "        Alle datamaskiner forstår ikke Python. For at datamaskinen skal forstå programmeringsspråket Python må man installere et program som oversetter Python til et språk datamaskinen forstår. Dette programmet har mange navn; Python, CPython, Python interpreter, Python kernel. \n",
    "    </details>\n",
    "</div>"
   ]
  },
  {
   "cell_type": "markdown",
   "id": "cf17544c-eb4b-4db6-8b1c-27d52759bbf1",
   "metadata": {
    "jp-MarkdownHeadingCollapsed": true
   },
   "source": [
    "## Kode\n",
    "\n",
    "Kode er teksten du skriver med instruksjoner. Man kaller dette kildekode, da dette er kilden til alle instruksjonene du vil at datamaskinen skal gjøre. For enkelhetens skyld kaller man dette bare for kode. Et program er kode som blir kjørt på en datamaskin. Man sier at et program er laget av kildekode."
   ]
  },
  {
   "cell_type": "markdown",
   "id": "d023be88-6686-4286-a791-e68966194281",
   "metadata": {},
   "source": [
    "## Programmering i praksis\n",
    "\n",
    "Python kode er tekst. Akkurat som når man leser tekst fra venstre mot høyre, så leser man Python kode i samme retning. "
   ]
  },
  {
   "cell_type": "markdown",
   "id": "7eb2f463-6ee4-4775-b48d-9a345786a7a4",
   "metadata": {},
   "source": [
    "### En linje med kode - kodelinje \n",
    "\n",
    "I Python er all kode som er skrevet på en linje en instruksjon. \n",
    "\n",
    "Hvis linjen med kode har feil vil du få en feilmelding. Dette er fordi Python programmet ikke kan forstå hva du har skrevet."
   ]
  },
  {
   "cell_type": "markdown",
   "id": "cde97e8d-f8c0-4c0e-9434-30381571864b",
   "metadata": {},
   "source": [
    "### __Oppgave 1__\n",
    "Les koden under, hva tror du vil skje?\n",
    "Kjør koden under uten å endre den. \n",
    "\n",
    "Det er noe feil med koden under. Fiks det som er feil med koden. Hva var det som var feil?"
   ]
  },
  {
   "cell_type": "code",
   "execution_count": null,
   "id": "b8b68ed7-6385-4d75-b033-7229f2c2e93c",
   "metadata": {},
   "outputs": [],
   "source": [
    "print(\"Hello World!\" # ) Dette er en linje med kode."
   ]
  },
  {
   "cell_type": "markdown",
   "id": "a4e2c41b-d0eb-4bcd-8abc-e7b0b9e1453f",
   "metadata": {},
   "source": [
    "<div>\n",
    "    <details>\n",
    "        <summary><em>Hint❔</em></summary>\n",
    "        Se på teksten som handler om kommentarer i koden. Hva har skjedd med høyre parentesen ) ?\n",
    "        <div>\n",
    "            <details>\n",
    "            <summary><em>Løsningforslag✅</em></summary>\n",
    "            Det ser ut som høyre parentesen er på feil plass. Den skal være etter \", ikke etter #. Altså skal det stå: \n",
    "                <br><code class = alert-success>print(\"Hello World!\")#</code>\n",
    "                <br>det skal ikke stå:\n",
    "                <br><code class=\"alert-warning\">print(\"Hello World!\"#)</code>\n",
    "            </details>\n",
    "        </div>\n",
    "    </details>\n",
    "</div>"
   ]
  },
  {
   "cell_type": "markdown",
   "id": "20a9c155-8209-41ef-897f-efb4691ce1f4",
   "metadata": {},
   "source": [
    "### Kommentarer i koden\n",
    "\n",
    "Kommentarer i koden starte med et pund tegn (#), også kjent som hashtag (#).\n",
    "Under ser du et eksempel på en kommentar i koden.\n",
    "```python\n",
    "\n",
    "# Dette er en kommetar i koden\n",
    "# Kommentarer starter med #\n",
    "# All tekst som kommer etter #, til høyre, er en del av kommentaren\n",
    "\n",
    "# Eksempel på bruk av kommentar i kode:\n",
    "def f(x):             # Definer funksjonen med navnet f og med 1 input kalt x\n",
    "    resultat = x**2   # Regn ut x opphøyd i andre og lagre det i variabel kalt resultat      \n",
    "    return resultat   # Retuner utregningen som funksjonen gjorde\n",
    "\n",
    "```\n",
    "\n",
    "Hva tror du at kommentarer kan brukes til?"
   ]
  },
  {
   "cell_type": "markdown",
   "id": "8c858d10-15c8-4e37-bd40-900ee31562aa",
   "metadata": {},
   "source": [
    "### __Oppgave 2__\n",
    "Kjør koden under uten å endre noe.\n",
    "\n",
    "Det er meningen at det skal komme opp en feilmelding. Hva står det i denne feilmeldingen?\n",
    "\n",
    "Skriv inn et tall slik at variabel alder lagrer din egen alder. Hva skjedde med feilmeldingen?"
   ]
  },
  {
   "cell_type": "code",
   "execution_count": null,
   "id": "6bed8ba0-2570-412b-bfa0-6d4c7fb961ec",
   "metadata": {},
   "outputs": [],
   "source": [
    "# Alt etter #-tegnet er en kommentar. Kommentarer påvirker ikke programmet\n",
    "\n",
    "# Eksempel\n",
    "alder = # <- Sett variabel med navnet alder til din egen alder "
   ]
  },
  {
   "cell_type": "markdown",
   "id": "77e86e31-ff50-4581-be2f-7e30ae1629d2",
   "metadata": {},
   "source": [
    "### Kode over flere linjer\n",
    "\n",
    "Man kan skrive kode over flere linjer. Når man da kjører koden vil alle linjene kjøre en etter en.\n",
    "\n",
    "Kjører du koden under vil hver linje med kode kjøre en etter en og printe ut teksten."
   ]
  },
  {
   "cell_type": "code",
   "execution_count": null,
   "id": "722cd045-fe01-41a9-b0b0-64cf43522ab7",
   "metadata": {},
   "outputs": [],
   "source": [
    "print(\"Hallo\")               # Første linje med kode som kjører\n",
    "print(\"elever\")              # Andre linje med kode som kjører etter den første\n",
    "print(\"i programmering!\")    # Tredje linje med kode som kjører"
   ]
  },
  {
   "cell_type": "markdown",
   "id": "8a8533a9-4545-4c4e-aa23-43e624859a99",
   "metadata": {},
   "source": [
    "__*Men*__ har man feil så vil ikke programmet kjøre etter hvor feilen skjedde!\n",
    "\n",
    "__Kjør koden under og se på feilmeldigen.__ Klarer du å endre koden så det ikke kommer en feilmelding?"
   ]
  },
  {
   "cell_type": "code",
   "execution_count": null,
   "id": "8e923604-abe2-4625-a4fc-e602dfc36fc6",
   "metadata": {},
   "outputs": [],
   "source": [
    "print(\"2+2 = \", 2+2)         # Første linje med kode som kjører\n",
    "print(\"10/0 = \", 10/0)       # Kan ikke dele på null. Vil få feilmelding.\n",
    "print(\"Ferdig å regne ut!\")  # Denne kode linjen kjører aldri!"
   ]
  },
  {
   "cell_type": "markdown",
   "id": "2aa1ede9-dc74-41d9-8182-2aebf0ca195a",
   "metadata": {},
   "source": [
    "### Input - En måte å gi datamaskinen data/informasjon\n",
    "\n",
    "I koden kan man be om data inn fra den som kjører programmet. Hvis du kjører koden under så kan du gi inn data til programmet."
   ]
  },
  {
   "cell_type": "code",
   "execution_count": null,
   "id": "f3d2ac27-a39e-4560-964b-215a2bc3f07f",
   "metadata": {},
   "outputs": [],
   "source": [
    "input(\"Hei! hva er heter du?\")"
   ]
  },
  {
   "cell_type": "markdown",
   "id": "8c7740a4-7ecb-42df-bf04-39d58fb2e590",
   "metadata": {},
   "source": [
    "### __Oppgave 3__\n",
    "Kjør koden under og skriv inn dine svar på spørsmålene."
   ]
  },
  {
   "cell_type": "code",
   "execution_count": null,
   "id": "07fc9a97-e152-46db-b4b7-c32013a1325d",
   "metadata": {},
   "outputs": [],
   "source": [
    "navn = input(\"Hei! hva er heter du?\")\n",
    "print(f\"Heisann, {navn}!\")\n",
    "synes_om_programmering = input(\"Hva synes du om programmering?\")\n",
    "print(\"Takk for at du sier det!\")"
   ]
  },
  {
   "cell_type": "markdown",
   "id": "af5fc8ed-a8ea-45c8-949e-38c13064862d",
   "metadata": {},
   "source": [
    "### __Oppgave 4__\n",
    "Lag flere spørsmål og svar i koden. Klarer du å programmere en veldig lang samtale?"
   ]
  },
  {
   "cell_type": "code",
   "execution_count": null,
   "id": "ce84f73a-0088-4b11-b59b-fd13f65129e1",
   "metadata": {},
   "outputs": [],
   "source": [
    "navn = input(\"Hei! hva er heter du?\")\n",
    "print(f\"Heisann, {navn}!\")\n",
    "\n",
    "synes_om_programmering = input(\"Hva synes du om programmering?\")\n",
    "\n",
    "print(\"Takk for at du sier det!\")\n",
    "print(\"Hyggelig å prate med deg\")"
   ]
  },
  {
   "cell_type": "markdown",
   "id": "82877f7f-52cf-4eba-983e-6b0c7344ee52",
   "metadata": {},
   "source": [
    "### Parenteser - Viktig!\n",
    "\n",
    "**Parenteser bestemmer i hvilke rekkefølge koden kjører i!** Det ligner på måten parenteser bestemmer rekkefølgen for regning i matematikk.\n",
    "\n",
    "Det vil si på samme måte som i vanlig matematikk $3*2+4 \\neq 3*(2+4)$.\n",
    "Så gjelder det samme for kode:<code>3 * 2+4 != 3 * (2+4)</code> "
   ]
  },
  {
   "cell_type": "code",
   "execution_count": null,
   "id": "4a77f140-0194-4648-9f84-396384f5695b",
   "metadata": {},
   "outputs": [],
   "source": [
    "print(3*2+4)   # Blir ikke det samme som \n",
    "print(3*(2+4)) # dette, på grunn av paranteser"
   ]
  },
  {
   "cell_type": "markdown",
   "id": "565bd9c3-895e-4ec9-b6dc-6f204265d676",
   "metadata": {},
   "source": [
    "### Matematikk\n",
    "\n",
    "I Python kan man regne ut store regnestykker og lange utregninger. Matematikk er noe det datamaskiner er best på!\n",
    "\n",
    "\\+ og - er bare å skrive rett inn og Python vil regne ut regnestykke.\n",
    "\n",
    "```python\n",
    "2+2 \n",
    "4\n",
    "\n",
    "18-3\n",
    "15\n",
    "```\n",
    "\n",
    "### Oppgave 5\n",
    "\n",
    "Få Python til å regne ut dette regnestykke: $-31+(512+16)-(-3)$\n",
    "\n",
    "Kjør koden for å sjekke svaret."
   ]
  },
  {
   "cell_type": "code",
   "execution_count": null,
   "id": "3758ab3f-a8b2-42dc-9f25-aeb4af8dbbee",
   "metadata": {},
   "outputs": [],
   "source": [
    "svar = # <- Skriv her\n",
    "\n",
    "# Denne sjekker svaret om det ble riktig\n",
    "assert svar == 500, f\"Det ble ikke ikke riktig. Fikk {svar} men forventet 500. Har du sjekket parantesene?\""
   ]
  },
  {
   "cell_type": "markdown",
   "id": "d891ee98-d6fd-40f2-b113-d327a80150ac",
   "metadata": {},
   "source": [
    "### Matematikk - fortsettelse\n",
    "\n",
    "Man kan få python til å regne ut flere ting med matematikk.\n",
    "\n",
    "__Ganging__\n",
    "\n",
    "To gange to: $2*2$ \n",
    "\n",
    "er dette i Python:\n",
    "\n",
    "```python\n",
    "2*2 \n",
    "4\n",
    "\n",
    "18*3\n",
    "54\n",
    "```\n",
    "\n",
    "__Deling__\n",
    "\n",
    "Fem delt på tre: \n",
    "\n",
    "$5/3$\n",
    "\n",
    "```python\n",
    "15/3\n",
    "5.0\n",
    "```"
   ]
  },
  {
   "cell_type": "markdown",
   "id": "034d82b2-da6d-41da-aa67-7bbbdd2f08a5",
   "metadata": {},
   "source": [
    "### __Oppgave 6__\n",
    "\n",
    "Regn ut 5/3 uten å bruke Python. Hva er svaret du fikk?\n",
    "\n",
    "Kjør koden under som deler 5 på 3. Fikk du samme svar?"
   ]
  },
  {
   "cell_type": "code",
   "execution_count": null,
   "id": "a2964ae5-4a7b-42f8-b088-2c9f5287ea01",
   "metadata": {},
   "outputs": [],
   "source": [
    "5/3"
   ]
  },
  {
   "cell_type": "markdown",
   "id": "ca73cbb3-8452-41a0-939b-b8ed8ab6152b",
   "metadata": {},
   "source": [
    "### Mer avanserte oppgaver\n",
    "\n",
    "Hvis du blir ferdig med alt i denne boken så er her noen andre oppgaver som du skal jobbe med:\n",
    "\n",
    "+ https://oppgaver.kidsakoder.no/python/hvor_gammel_er_du/hvor_gammel_er_du\n",
    "+ https://oppgaver.kidsakoder.no/python/if-setninger/if-setninger\n",
    "+ https://oppgaver.kidsakoder.no/python/mattespill/mattespill\n",
    "+ https://oppgaver.kidsakoder.no/python/hemmelige_koder/hemmelige_koder\n",
    "+ https://oppgaver.kidsakoder.no/python/diffie-hellman/diffie-hellman"
   ]
  },
  {
   "cell_type": "code",
   "execution_count": null,
   "id": "395d26e8-c972-4af7-8638-ddcd05f6cb82",
   "metadata": {},
   "outputs": [],
   "source": []
  }
 ],
 "metadata": {
  "kernelspec": {
   "display_name": "Python 3 (ipykernel)",
   "language": "python",
   "name": "python3"
  },
  "language_info": {
   "codemirror_mode": {
    "name": "ipython",
    "version": 3
   },
   "file_extension": ".py",
   "mimetype": "text/x-python",
   "name": "python",
   "nbconvert_exporter": "python",
   "pygments_lexer": "ipython3",
   "version": "3.12.1"
  }
 },
 "nbformat": 4,
 "nbformat_minor": 5
}
