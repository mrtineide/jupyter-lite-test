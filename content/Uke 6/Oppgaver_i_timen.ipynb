{
 "cells": [
  {
   "cell_type": "markdown",
   "id": "9f52ed60-250c-46c1-949c-475ca7ac80aa",
   "metadata": {
    "editable": true,
    "slideshow": {
     "slide_type": ""
    },
    "tags": []
   },
   "source": [
    "# __Uke 6 - Programmering i Python__\n",
    "\n",
    "## __Oppgave 0 -  Få fram YouTube__\n",
    "\n",
    "1. Trykk og kjør koden under med å trykke <kbd>Shift</kbd> + <kbd>Enter</kbd> eller <kbd>▶</kbd> knappen over.\n",
    "\n"
   ]
  },
  {
   "cell_type": "code",
   "execution_count": null,
   "id": "95825426-1bab-49c3-99ff-f94ec11d9567",
   "metadata": {},
   "outputs": [],
   "source": [
    "# Kjør denne linjen med kode\n",
    "from IPython.display import YouTubeVideo; display(YouTubeVideo('KOdfpbnWLVo'))"
   ]
  },
  {
   "cell_type": "markdown",
   "id": "68a739fd-323e-42c3-9ca8-9311210246b5",
   "metadata": {},
   "source": [
    "## __Oppgave 1 - Hello world__\n",
    "\n",
    "1. *Åpne en console.* Høyreklikk + \"New console for notebook\"\n",
    "2. Skriv kode <code>print(\"Hello world!\")</code> i console\n",
    "3. Kjør koden i console med å trykke <kbd>Shift</kbd> + <kbd>Enter</kbd> eller <kbd>▶</kbd> \n",
    "\n",
    "*Oppgaven er gjort når:*\n",
    "- Åpnet en console og kjørt kode som du  har skrevet inn."
   ]
  },
  {
   "cell_type": "markdown",
   "id": "cdfb2732-5796-417a-b658-56751fbaaca3",
   "metadata": {},
   "source": [
    "## __Oppgave 2 - Strenger__\n",
    "*En streng med bokstaver kaller man tekst. A string of letters or characters are what we call text.*\n"
   ]
  },
  {
   "cell_type": "code",
   "execution_count": null,
   "id": "73b36795-57a9-4608-b619-694412e948b1",
   "metadata": {},
   "outputs": [],
   "source": [
    "display(YouTubeVideo('iAzShkKzpJo'))"
   ]
  },
  {
   "cell_type": "markdown",
   "id": "385f2150-0ae2-40e8-99c3-01bd33790ee4",
   "metadata": {},
   "source": [
    "### __Oppgave 2.a)__\n",
    "1. Skriv <code>navn = #DITTNAVN </code> i kodecellen under.\n",
    "2. Bytt ut <code>#DITTNAVN</code> med ditt eget navnet i en streng. \n",
    "3. Kjør koden med å trykke <kbd>Shift</kbd> + <kbd>Enter</kbd> eller <kbd>▶</kbd>\n",
    "\n",
    "*Oppgaven er gjort når:*\n",
    "- Navnet ditt blir printet ut"
   ]
  },
  {
   "cell_type": "code",
   "execution_count": null,
   "id": "f85f5c2b-ad53-4da3-af19-445c8675228b",
   "metadata": {},
   "outputs": [],
   "source": [
    "#Skriv kode her\n",
    "\n",
    "\n",
    "#### Test (ikke endre)\n",
    "assert navn != None\n",
    "print(navn)"
   ]
  },
  {
   "cell_type": "markdown",
   "id": "76707fae-3ecb-460b-8923-35184d394a55",
   "metadata": {},
   "source": [
    "### __Oppgave 2.b)__\n",
    "\n",
    "1. Skriv <code>ibsen = #FORFATTER </code> i kodecellen under.\n",
    "2. Bytt ut <code>#FORFATTER</code> med det fulle navnet til Henrik Ibsen, men bruk <code>'singel quotes'</code> istedenfor  <code>\"double quotes\"</code>\n",
    "<div>\n",
    "    <details>\n",
    "        <summary><em>Hint▶</em></summary>\n",
    "        <a href=\"https://snl.no/Henrik_Ibsen\">Du finner hans fulle navn her (lenke).</a>\n",
    "    </details>\n",
    "</div> \n",
    "\n",
    "3. Skriv kode som printer ut Ibsens fulle navn.\n",
    "4. Kjør koden med å trykke <kbd>Shift</kbd> + <kbd>Enter</kbd> eller <kbd>▶</kbd>\n",
    "\n",
    "*Oppgaven er gjort når:*\n",
    "- Ibsens fulle navn blir printet ut"
   ]
  },
  {
   "cell_type": "code",
   "execution_count": null,
   "id": "c71f460a-a26b-4a44-953f-2b4fda77654a",
   "metadata": {},
   "outputs": [],
   "source": [
    "#Skriv kode her\n",
    "\n",
    "\n",
    "#### Test (ikke endre)\n",
    "assert ibsen != None"
   ]
  },
  {
   "cell_type": "markdown",
   "id": "bec200c2-b64a-434d-95ec-1bd7ece31134",
   "metadata": {},
   "source": [
    "### __Oppgave 2.c)__\n",
    "\n",
    "1. Skriv <code>lang_tekst = #MYETEKST </code> i kodecellen under.\n",
    "2. Bytt ut <code>#MYETEKST</code> med __et avsnitt__ med tekst som er på Ibsen sin siden i Store Norske Leksikon. Bruk <code>\"\"\"Triple double quotes\"\"\"</code> eller <code>'''Triple single quotes'''</code>\n",
    "<div>\n",
    "    <details>\n",
    "        <summary><em>Lenke▶</em></summary>\n",
    "        <a href=\"https://snl.no/Henrik_Ibsen\">Her er siden til Henrik Ibsen på Store Norske leksikon (lenke).</a>\n",
    "    </details>\n",
    "</div> \n",
    "\n",
    "3. Skriv kode som printer ut teksten.\n",
    "4. Kjør koden med å trykke <kbd>Shift</kbd> + <kbd>Enter</kbd> eller <kbd>▶</kbd>\n",
    "\n",
    "*Oppgaven er gjort når:*\n",
    "- Et helt avsnitt fra Ibsens SNL side blir printet ut\n"
   ]
  },
  {
   "cell_type": "code",
   "execution_count": null,
   "id": "854eb90d-5f07-41cb-89ef-879086c5ced9",
   "metadata": {},
   "outputs": [],
   "source": [
    "# Skriv kode her\n"
   ]
  },
  {
   "cell_type": "markdown",
   "id": "2ee2850e-d58f-4fd5-843f-597ee81034bb",
   "metadata": {},
   "source": [
    "### __Oppgave 2.d)__\n",
    "\n",
    "*Ekstraoppgave*\n",
    "\n",
    "1. Skriv kode som bytter ut \"Ibsen\" med ditt eget navn i avsnittet fra forrige side.\n",
    "<div>\n",
    "    <details>\n",
    "        <summary><em>Hint▶</em></summary>\n",
    "        <a href=\"https://docs.python.org/3/library/stdtypes.html#str.replace\">Bruk funksjonen <code>replace</code>. (lenke til dokumentasjon)</a>\n",
    "    </details>\n",
    "</div> "
   ]
  },
  {
   "cell_type": "code",
   "execution_count": null,
   "id": "3a1935c6-1c1f-4dab-a7ac-a53e3d5845bb",
   "metadata": {},
   "outputs": [],
   "source": [
    "# Ekstraoppaven\n",
    "new_text = lang_tekst.replace()\n",
    "print(new_text)"
   ]
  },
  {
   "cell_type": "markdown",
   "id": "a1de5f0a-ad01-4604-819d-fa0a47d568ca",
   "metadata": {},
   "source": [
    "## __Oppgave 3 - Tall og matematikk__\n",
    "\n",
    "*Tall og matematikk er grunnsteinen i programmering og i Pyton*"
   ]
  },
  {
   "cell_type": "code",
   "execution_count": null,
   "id": "a7d52ad0-6275-43c6-8a20-a3bf6c8ef79e",
   "metadata": {},
   "outputs": [],
   "source": [
    "display(YouTubeVideo('_87ASgggEg0'),YouTubeVideo('Aj8FQRIHJSc'))"
   ]
  },
  {
   "cell_type": "markdown",
   "id": "272e7990-28a6-4b80-89e3-2569c56677bb",
   "metadata": {},
   "source": [
    "### __Oppgave 3.a)__\n",
    "\n",
    "1. Skriv kode som printer ut navnet ditt 3 ganger ved å bruke multiplikasjon."
   ]
  },
  {
   "cell_type": "code",
   "execution_count": null,
   "id": "522100f8-2bcb-45b0-827b-cb24b1b0c732",
   "metadata": {},
   "outputs": [],
   "source": []
  },
  {
   "cell_type": "markdown",
   "id": "bcb74531-4eb0-4edf-98e1-2e0db708b682",
   "metadata": {},
   "source": [
    "### __Oppgave 3.b)__\n",
    "\n",
    "1. Skriv kode som regner ut lengden til avsnittet fra forrige oppgave."
   ]
  },
  {
   "cell_type": "code",
   "execution_count": null,
   "id": "cd3834ab-12c3-42a2-acc9-3853fce4fefb",
   "metadata": {},
   "outputs": [],
   "source": []
  },
  {
   "cell_type": "markdown",
   "id": "49eb6357-bc4e-4977-a457-c8dc9801f311",
   "metadata": {},
   "source": [
    "### __Oppgave 3.c__\n",
    "\n",
    "1. Skriv kode som tar inn et tall fra input og ganger tallet med seg selv og deler resultatet på 2."
   ]
  },
  {
   "cell_type": "code",
   "execution_count": null,
   "id": "3cc6ea33-dcc4-43bc-8750-e0360f886711",
   "metadata": {},
   "outputs": [],
   "source": []
  },
  {
   "cell_type": "markdown",
   "id": "6e9ec4b2-0608-45b9-abe1-dbe9cd630c47",
   "metadata": {},
   "source": [
    "## __Oppgave 4 - Hjelp til selvhjelp__"
   ]
  },
  {
   "cell_type": "code",
   "execution_count": null,
   "id": "9b7c0898-1420-42e9-8b3f-edd070254fac",
   "metadata": {},
   "outputs": [],
   "source": [
    "display(YouTubeVideo('BVXv0-1Rcc8'))"
   ]
  },
  {
   "cell_type": "markdown",
   "id": "5028e38f-332e-4e74-83a1-d82388a05617",
   "metadata": {},
   "source": [
    "### __Oppgave 4.a)__\n",
    "\n",
    "1. Slå opp hjelp teksten eller dokumentasjonen på funksjonen\n",
    "<code>ord</code>.\n",
    "Bruk enten\n",
    "<code>help</code> funksjonen,\n",
    "<code>dir</code> funksjonen\n",
    " eller\n",
    "<code>?</code>."
   ]
  },
  {
   "cell_type": "code",
   "execution_count": null,
   "id": "6c67ee34-0334-45a5-ac3a-2bc31d4ea664",
   "metadata": {},
   "outputs": [],
   "source": [
    "dir"
   ]
  },
  {
   "cell_type": "code",
   "execution_count": null,
   "id": "139107a7-45ea-4dab-8188-6f3fbf6927f7",
   "metadata": {},
   "outputs": [],
   "source": [
    "help"
   ]
  },
  {
   "cell_type": "code",
   "execution_count": null,
   "id": "c43e8ea6-607f-41b6-ba95-57d39e1d3295",
   "metadata": {},
   "outputs": [],
   "source": [
    "?"
   ]
  },
  {
   "cell_type": "markdown",
   "id": "9b5d633d-71ca-444b-a1f2-a5b8d123ed44",
   "metadata": {},
   "source": [
    "## __Oppgave 5 - Boolske verdier - True og False, 1 og 0.__\n",
    "\n",
    "*Boolske verdier er et navn vi bruker på ting som enten er Sant eller Usant, True eller False.*"
   ]
  },
  {
   "cell_type": "code",
   "execution_count": null,
   "id": "050b9c18-01ed-47a7-831f-b56d22815ac2",
   "metadata": {
    "scrolled": true
   },
   "outputs": [],
   "source": [
    "display(YouTubeVideo('9OK32jb_TdI'))"
   ]
  },
  {
   "cell_type": "markdown",
   "id": "2f50516a-0ad4-405a-beaa-f84e9cc8e4a7",
   "metadata": {},
   "source": [
    "### __Oppgave 5.a)__\n",
    "\n",
    "1. Lag to variabler og gi de heltall verdier. Kan kalle de x, y.\n",
    "2. Skriv kode som sjekker hvilket tall som er størst"
   ]
  },
  {
   "cell_type": "code",
   "execution_count": null,
   "id": "3166e033-e555-44c6-ac49-22e006e155f0",
   "metadata": {},
   "outputs": [],
   "source": [
    "#Skriv kode her"
   ]
  },
  {
   "cell_type": "markdown",
   "id": "8ef38e02-3bc7-447d-a1a2-8120f924cf06",
   "metadata": {},
   "source": [
    "### __Oppgave 5.b)__\n",
    "\n",
    "1. Lag et program som sjekker om et passord er lengre en 6 bokstaver.\n",
    "Her kan det være lurt å bruke variabler og funksjon som regner ut lengden på strenger med tekst. "
   ]
  },
  {
   "cell_type": "code",
   "execution_count": null,
   "id": "731e74d8-9eb0-4303-8394-915fe81bd0b1",
   "metadata": {},
   "outputs": [],
   "source": [
    "#Skriv kode her"
   ]
  },
  {
   "cell_type": "markdown",
   "id": "fe95fa19-b4a2-48d6-885d-bf47659b556c",
   "metadata": {},
   "source": [
    "## __Oppgave 6 - Vilkår - Hvis ja, gjør dette, ellers gjør dette.__\n",
    "\n",
    "*Vilkår handler om å kontrollere hvilke kode som skal kjøres. Til dette bruker man if-elif-else utrykk i Python*"
   ]
  },
  {
   "cell_type": "code",
   "execution_count": null,
   "id": "41a0d8e9-06d0-4866-be2d-5750d7282a13",
   "metadata": {},
   "outputs": [],
   "source": [
    "display(YouTubeVideo(\"f4KOjWS_KZs\"))"
   ]
  },
  {
   "cell_type": "markdown",
   "id": "7606457d-fa50-4f67-b545-e6a82334e322",
   "metadata": {
    "editable": true,
    "slideshow": {
     "slide_type": ""
    },
    "tags": []
   },
   "source": [
    "1. Lag et spill hvor man gjetter på et tilfeldig tall mellom 1 til 10 og prøver å gjette riktig."
   ]
  },
  {
   "cell_type": "code",
   "execution_count": null,
   "id": "5e439c7f-d392-4155-8df3-2afd58c531cc",
   "metadata": {},
   "outputs": [],
   "source": [
    "# Skriv koden til spillet her\n"
   ]
  },
  {
   "cell_type": "markdown",
   "id": "94af8432-0dd7-427b-8ec4-9fb884b12db2",
   "metadata": {},
   "source": [
    "## Ekstra oppgaver\n",
    "\n",
    "+ https://oppgaver.kidsakoder.no/python/if-setninger/if-setninger\n",
    "+ https://oppgaver.kidsakoder.no/python/mattespill/mattespill\n",
    "+ https://oppgaver.kidsakoder.no/python/hemmelige_koder/hemmelige_koder\n",
    "+ https://oppgaver.kidsakoder.no/python/diffie-hellman/diffie-hellman"
   ]
  }
 ],
 "metadata": {
  "kernelspec": {
   "display_name": "Python 3 (ipykernel)",
   "language": "python",
   "name": "python3"
  },
  "language_info": {
   "codemirror_mode": {
    "name": "ipython",
    "version": 3
   },
   "file_extension": ".py",
   "mimetype": "text/x-python",
   "name": "python",
   "nbconvert_exporter": "python",
   "pygments_lexer": "ipython3",
   "version": "3.10.11"
  }
 },
 "nbformat": 4,
 "nbformat_minor": 5
}
