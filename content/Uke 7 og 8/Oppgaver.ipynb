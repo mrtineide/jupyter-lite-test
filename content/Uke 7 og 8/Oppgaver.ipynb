{
 "cells": [
  {
   "cell_type": "markdown",
   "id": "d7abefbe-dcc0-42d9-8dd5-f5823a4aebe2",
   "metadata": {},
   "source": [
    "# Uke 8 - Logikk i programmering "
   ]
  },
  {
   "cell_type": "markdown",
   "id": "10f894e1-d337-4bdc-91d7-32c3d02e5dd3",
   "metadata": {},
   "source": [
    "## __Oppgave 1 - Boolske verdier og logikk - True og False, 1 og 0.__\n",
    "\n",
    "*Boolske verdier er et navn vi bruker på ting som enten er Sant eller Usant, True eller False.*"
   ]
  },
  {
   "cell_type": "code",
   "execution_count": null,
   "id": "19df7705-3636-4e1a-a411-39615ee27b11",
   "metadata": {
    "scrolled": true
   },
   "outputs": [],
   "source": [
    "from IPython.display import YouTubeVideo;display(YouTubeVideo('9OK32jb_TdI'))"
   ]
  },
  {
   "cell_type": "markdown",
   "id": "c19101be-b438-46c2-b09d-5c5708efd406",
   "metadata": {},
   "source": [
    "#### Boolske verdier\n",
    "\n",
    "I Python har man to ting som representerer ting og uttrykk som er sant og usant. \n",
    "\n",
    "Disse er <code>True</code> og <code>False</code>.\n",
    "\n",
    "Man bruker disse når man regner ut om *uttrykk* er sant eller usant. Ta for eksmepel legimitasjon sjekk på butikk. Da sjekker man om \"Er gammel nok\" er sant eller usant. Det er det man kaller en sjekk og logikken er om man er over en hvis alder så er \"Er gammel nok\" uttrykket sant og ellers så er det ikke sant, altså usant. \n",
    "\n",
    "I Python så skriver vi slike alders sjekker med logikk og Python programmet regner ut om det er sant eller usant. På samme måte som Python regner ut <code>\\(3\\*5\\) + 5 </code> til å bli 20, så kan Python sjekke om <code>\\(3\\*5\\) + 5  er lik 15 </code> er sant eller usant. Python kan også sjekke om <code>\\(3\\*5\\) + 5 > 15 </code> er sant eller usant. På den måten kan man sjekke mindre enn <code><</code>  eller større enn <code>></code>."
   ]
  },
  {
   "cell_type": "markdown",
   "id": "53193047-010f-4eb3-a998-81f303d536ab",
   "metadata": {},
   "source": [
    "### __Oppgave 1.a)__\n",
    "\n",
    "1. Lag to variabler og gi de (hel)tall verdier. Kan kalle de x, y.\n",
    "2. Skriv kode som sjekker hvilket tall som er størst \n",
    "3. Skriv kode som sjekker hvilket tall som minst\n",
    "4. Skriv kode som sjekker om tallene er like"
   ]
  },
  {
   "cell_type": "code",
   "execution_count": null,
   "id": "3c97ff3d-3f2a-402f-bab1-4d536fe14e67",
   "metadata": {},
   "outputs": [],
   "source": [
    "#Skriv kode her\n"
   ]
  },
  {
   "cell_type": "markdown",
   "id": "d459ff50-b4c1-41b6-b9cc-4b7ec6d4848e",
   "metadata": {},
   "source": [
    "### __Oppgave 1.b)__\n",
    "\n",
    "1. Skriv kode som sjekker om tallene fra forrige oppgave er lik 15\n",
    "2. Skriv kode som sjekker om tallene ganget sammen er mindre enn 100.\n",
    "3. Skriv kode som sjekker om tallene delt på hverandre __*ikke*__ er lik 0"
   ]
  },
  {
   "cell_type": "code",
   "execution_count": null,
   "id": "1bb146de-5c51-4a0a-ad3d-70751a656a09",
   "metadata": {},
   "outputs": [],
   "source": [
    "#Skriv kode her\n"
   ]
  },
  {
   "cell_type": "markdown",
   "id": "642713f6-7318-42c8-91b7-0c62e7c99891",
   "metadata": {},
   "source": [
    "###  __Oppgave 1.c)__ (vanskelig)\n",
    "\n",
    "Man kan kombinere og sjekke flere logisk utrykk med <code>and</code> (og), <code>or</code> (eller), <code>not</code> (ikke)\n",
    "\n",
    "\n",
    "1. Skriv kode som sjekker om ene taller er mindre en 10 __og__ det andre tallet er større en 20\n",
    "2. Skriv kode som sjekker om noen av tallene er større en 25."
   ]
  },
  {
   "cell_type": "code",
   "execution_count": null,
   "id": "9ffd2148-eda3-434f-8738-ef84b203fe8d",
   "metadata": {},
   "outputs": [],
   "source": [
    "# Skriv kode her\n"
   ]
  },
  {
   "cell_type": "markdown",
   "id": "c582c444-fef7-4e2d-bfe9-c6fa24b5378f",
   "metadata": {},
   "source": [
    "## __Oppgave 2 - Vilkår - Hvis ja, gjør dette, ellers gjør dette.__\n",
    "\n",
    "*Vilkår handler om å kontrollere hvilke kode som skal kjøres. Til dette bruker man if-elif-else utrykk i Python*"
   ]
  },
  {
   "cell_type": "code",
   "execution_count": null,
   "id": "887ca288-09eb-4ae1-9194-7f613d4da2a0",
   "metadata": {},
   "outputs": [],
   "source": [
    "display(YouTubeVideo(\"f4KOjWS_KZs\"))"
   ]
  },
  {
   "cell_type": "markdown",
   "id": "a290b387-9a55-486f-8d49-74807b1bc382",
   "metadata": {},
   "source": [
    "#### Vilkår - If, else if or else\n",
    "\n",
    "Når man skriver programmer så er det veldig ofte man vil gjøre ulike ting basert på noen logiske regler. Man vil gjerne gjøre ulile ting basert på noen kriterier eller vilkår som man har bestemt på forhånd. Eksempelvis er det et vilkår for å kunne øvelseskjøre med bil. Da er det flere vilkår, du må ha tatt trafikalt grunnkurs, fått bevis på trafikalt grunnkurs og bruke rød L bak bilen når du kjører.\n",
    "\n",
    "I programmering kan man sjekke om ulike vikår er oppfylt med å regne ut om ting er sant eller usant. Og så kan man kjøre ulik kode basert på hvilke vilkår som gjelder. På den måten kan man bestemme hvilke kode som kjører basert på ulike kriterier og vilkår. \n",
    "\n",
    "Dette kaller man for kontrollflyten i et program"
   ]
  },
  {
   "cell_type": "markdown",
   "id": "21a2c1a3-f57c-4ea0-8600-9577b599023b",
   "metadata": {},
   "source": [
    "### __Oppgave 2.a)__ \n",
    "\n",
    "1. Lag et program/kode som sjekker at et passord er større enn 8 bokstaver.\n",
    "Hvis passordet er for kort print ut beskjed om det.\n",
    "\n",
    "Her kan det være lurt å bruke variabler og Python funksjonen som regner ut lengden på strenger. "
   ]
  },
  {
   "cell_type": "code",
   "execution_count": null,
   "id": "09ccef25-8cf7-4596-b5e7-b062c241e925",
   "metadata": {},
   "outputs": [],
   "source": [
    "passord = \"passord  \"\n",
    "# Skriv kode her\n"
   ]
  },
  {
   "cell_type": "markdown",
   "id": "f9e799c1-9de5-45ea-b57a-dca141aee3d2",
   "metadata": {},
   "source": [
    "### __Oppgave 2.b)__\n",
    "\n",
    "Oppgaven skal sjekke om man kan øvelseskjøre. Koden sjekker om alle vilkårene er riktig.\n",
    "\n",
    "1. Les gjennom koden under. Finn ut hva som blir sjekket.\n",
    "2. Endre koden slik at alle vilkår sjekken blir sanne. Bruk vilkårene i koden til finne ut hva som er riktig."
   ]
  },
  {
   "cell_type": "code",
   "execution_count": null,
   "id": "c77d87e3-d72b-4045-81e6-6b0b7bfcdcdb",
   "metadata": {},
   "outputs": [],
   "source": [
    "# Endre disse variablene \n",
    "har_førerkort = False\n",
    "alder = 12\n",
    "tatt_trafikalt = False\n",
    "høyde = 1.6\n",
    "lapp_bak_bil = \"Blå-T\"\n",
    "\n",
    "# Under her er koden som sjekker v\n",
    "if alder >= 16:\n",
    "    print(\"Du er gammel nok til å øvelseskjøre\")\n",
    "    if not tatt_trafikalt:\n",
    "        raise ValueError(\"Du må ha tatt trafikalt grunnkurs\")\n",
    "    if lapp_bak_bil == \"Rød-L\":\n",
    "        print(\"Du har riktig lapp\")\n",
    "    else:\n",
    "        raise ValueError(\"Du må ha en Rød-L for å kunne øvelseskjøre\")\n",
    "else:\n",
    "    raise ValueError(\"Du må minst 16 år for å øvelseskjøre\")"
   ]
  },
  {
   "cell_type": "markdown",
   "id": "6d7a2762-4a74-4222-a856-91add54f5617",
   "metadata": {},
   "source": [
    "### __Oppgave 2.c)__"
   ]
  },
  {
   "cell_type": "markdown",
   "id": "ce44bffa-a278-4132-ba3f-4c3b93adf8c3",
   "metadata": {
    "editable": true,
    "slideshow": {
     "slide_type": ""
    },
    "tags": []
   },
   "source": [
    "Lag et spill hvor man gjetter på et tilfeldig tall mellom 1 til 10 og prøver å gjette riktig.\n",
    "\n",
    "1. Print ut teksten \"Du gjettet riktig!\" om man gjetter riktig tall.\n",
    "2. Print ut teksten \"Tallet er mindre enn det tallet du gjettet\" om man gjetter tall som er mindre enn det tilfeldige tallet.\n",
    "3. Print ut teksten \"Tallet er større enn det tallet du gjettet\" om man gjetter tall som er større enn det tilfeldige tallet.\n",
    "\n",
    "Tips: Bruk funksjonen tilfeldig_heltall i koden under. Kjør koden <code>help(tilfeldig_heltall)</code> til å forstå hvordan bruke funksjonen."
   ]
  },
  {
   "cell_type": "code",
   "execution_count": null,
   "id": "c7358dd8-6251-4871-b8f4-719a39e8277e",
   "metadata": {},
   "outputs": [],
   "source": [
    "# Kode som gjøre at vi kan få et tilfeldig tall\n",
    "from random import seed, randint as tilfeldig_heltall # Henter kode som gir tilfeldig tall og gir et norsk navn på funksjkonen \n",
    "seed(42) # Vi setter et fast start på de tilfeldige tallene\n",
    "\n",
    "# Skriv koden til spillet under her ⬇\n",
    "# Endre på dette tallet for å gjette \n",
    "gjett = 5 \n",
    "\n",
    "\n"
   ]
  },
  {
   "cell_type": "markdown",
   "id": "ac670b52-2b2b-4c30-a1e9-961fdfd7485e",
   "metadata": {},
   "source": [
    "# Bruke kode om igjen - Python funksjoner "
   ]
  },
  {
   "cell_type": "code",
   "execution_count": null,
   "id": "6b5b8cae-34b6-407e-a8d8-60fcc921705e",
   "metadata": {},
   "outputs": [],
   "source": [
    "display(YouTubeVideo(\"NE97ylAnrz4\"))"
   ]
  },
  {
   "cell_type": "code",
   "execution_count": null,
   "id": "bf453717-c56e-4bc7-899a-b7ecc58bf757",
   "metadata": {},
   "outputs": [],
   "source": []
  },
  {
   "cell_type": "code",
   "execution_count": null,
   "id": "34b0178a-8d5b-4e38-9e86-bbf530dc966c",
   "metadata": {},
   "outputs": [],
   "source": []
  },
  {
   "cell_type": "code",
   "execution_count": null,
   "id": "38904b68-186a-475b-8ab5-b10ad3aaa71d",
   "metadata": {},
   "outputs": [],
   "source": []
  },
  {
   "cell_type": "code",
   "execution_count": null,
   "id": "2db786bc-a938-407c-9399-cd5be03c6479",
   "metadata": {},
   "outputs": [],
   "source": []
  },
  {
   "cell_type": "code",
   "execution_count": null,
   "id": "2483e06c-ebc7-41be-a69f-2b674f856fbe",
   "metadata": {},
   "outputs": [],
   "source": []
  },
  {
   "cell_type": "markdown",
   "id": "62585091-e2ae-4322-9f9f-358dee4aadb8",
   "metadata": {
    "jp-MarkdownHeadingCollapsed": true
   },
   "source": [
    "## Ekstra oppgaver\n",
    "\n",
    "+ https://oppgaver.kidsakoder.no/python/if-setninger/if-setninger\n",
    "+ https://oppgaver.kidsakoder.no/python/mattespill/mattespill\n",
    "+ https://oppgaver.kidsakoder.no/python/hemmelige_koder/hemmelige_koder\n",
    "+ https://oppgaver.kidsakoder.no/python/diffie-hellman/diffie-hellman"
   ]
  }
 ],
 "metadata": {
  "kernelspec": {
   "display_name": "Python 3 (ipykernel)",
   "language": "python",
   "name": "python3"
  },
  "language_info": {
   "codemirror_mode": {
    "name": "ipython",
    "version": 3
   },
   "file_extension": ".py",
   "mimetype": "text/x-python",
   "name": "python",
   "nbconvert_exporter": "python",
   "pygments_lexer": "ipython3",
   "version": "3.10.11"
  }
 },
 "nbformat": 4,
 "nbformat_minor": 5
}
