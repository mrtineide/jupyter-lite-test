{
 "cells": [
  {
   "cell_type": "markdown",
   "id": "82c4d408-10a4-4993-ae28-b9194939772f",
   "metadata": {},
   "source": [
    "# Test av noe\n",
    "\n",
    "Dette er en test"
   ]
  },
  {
   "cell_type": "code",
   "execution_count": null,
   "id": "da93e4b1-191d-4dd6-b020-d7b8a89c7fee",
   "metadata": {},
   "outputs": [],
   "source": [
    "2+2"
   ]
  },
  {
   "cell_type": "code",
   "execution_count": null,
   "id": "aed51f92-1a33-4c4f-b107-1553aa2de470",
   "metadata": {},
   "outputs": [],
   "source": [
    "alder = 25\n",
    "\n",
    "if alder < 10:\n",
    "    print(\"Gen x\")\n",
    "elif alder < 20:\n",
    "    print(\"Zoomer\")\n",
    "elif alder < 35:\n",
    "    print(\"Other\")"
   ]
  },
  {
   "cell_type": "code",
   "execution_count": null,
   "id": "37732a0f-5340-48ee-bbba-e14b1ff9c120",
   "metadata": {
    "editable": true,
    "slideshow": {
     "slide_type": ""
    },
    "tags": []
   },
   "outputs": [],
   "source": [
    "import tester"
   ]
  },
  {
   "cell_type": "markdown",
   "id": "454bf1c5-cacb-43c5-962c-6813c458f919",
   "metadata": {
    "editable": true,
    "slideshow": {
     "slide_type": ""
    },
    "tags": []
   },
   "source": [
    "# Oppgave 1\n",
    "\n",
    "I denne oppgaven skal du bruke programmering til å finne ut hvor mye koffein man tåler.\n",
    "\n",
    "Bruk __[denne siden fra Folkhelseinstituttet som kilde for tålegrenser. (Lenke)](https://www.fhi.no/le/kosthold/koffein-koffeinholdige-drikker/#hvor-mye-koffein-fr-vi-i-oss-daglig)__\n",
    "\n",
    "### Oppgave 1.a)\n",
    "\n",
    "Finn tålegrensen for koffein for en voksen for enkeltinntak som kan føre til søvnforstyrrelser. Den er oppgitt som mg koffein per kg kroppsvekt. Altså mg/kg.\n",
    "\n",
    "Sett tallet for grenseverdien til en voksen til variabel som heter \"grense\":\n",
    "    \n",
    "> Eksempel: grense = 1000\n"
   ]
  },
  {
   "cell_type": "code",
   "execution_count": null,
   "id": "e17efcd9-13b0-44e5-abf7-d30f3354fac0",
   "metadata": {},
   "outputs": [],
   "source": [
    "grense = "
   ]
  },
  {
   "cell_type": "code",
   "execution_count": null,
   "id": "65b99508-f09b-4310-9597-7e66eca8ed00",
   "metadata": {},
   "outputs": [],
   "source": []
  },
  {
   "cell_type": "markdown",
   "id": "2d54e503-9320-4010-af06-cea4de8af86c",
   "metadata": {},
   "source": [
    "### Oppgave 1.b)\n",
    "\n",
    "<div class=\"alert alert-block alert-info\">\n",
    "<b>Tip:</b> Use blue boxes (alert-info) for tips and notes. \n",
    "If it’s a note, you don’t have to include the word “Note”.\n",
    "</div>\n",
    "\n",
    "```\n",
    "for (i=0; i<n; i++) {\n",
    "  printf(\"hello %d\\n\", i);\n",
    "  x += 4;\n",
    "}````"
   ]
  },
  {
   "cell_type": "markdown",
   "id": "21e27a5a-b1d2-4560-b302-b6e21183fd2e",
   "metadata": {},
   "source": [
    "<div class=\"alert alert-block alert-info\">\n",
    "<b>Tip:</b> Use blue boxes (alert-info) for tips and notes. \n",
    "If it’s a note, you don’t have to include the word “Note”.\n",
    "</div>\n",
    "\n",
    "<div class=\"alert alert-block alert-danger\">\n",
    "<b>Just don't:</b> In general, avoid the red boxes. These should only be\n",
    "used for actions that might cause data loss or another major issue.\n",
    "</div>\n",
    "<div class=\"alert alert-block alert-success\">\n",
    "<b>Up to you:</b> Use green boxes sparingly, and only for some specific \n",
    "purpose that the other boxes can't cover. For example, if you have a lot \n",
    "of related content to link to, maybe you decide to use green boxes for \n",
    "related links from each section of a notebook.\n",
    "</div>\n",
    "<div class=\"alert alert-block alert-warning\">\n",
    "<b>Example:</b> Use yellow boxes for examples that are not \n",
    "inside code cells, or use for mathematical formulas if needed.\n",
    "</div>\n",
    "\n",
    "``` python\n",
    "for (i=0; i<n; i++) {\n",
    "  printf(\"hello %d\\n\", i);\n",
    "  x += 4;\n",
    "}\n",
    "```\n"
   ]
  },
  {
   "cell_type": "code",
   "execution_count": null,
   "id": "c926514a-6ca6-4238-91c5-0b6b761bc528",
   "metadata": {},
   "outputs": [],
   "source": []
  }
 ],
 "metadata": {
  "kernelspec": {
   "display_name": "Python 3 (ipykernel)",
   "language": "python",
   "name": "python3"
  },
  "language_info": {
   "codemirror_mode": {
    "name": "ipython",
    "version": 3
   },
   "file_extension": ".py",
   "mimetype": "text/x-python",
   "name": "python",
   "nbconvert_exporter": "python",
   "pygments_lexer": "ipython3",
   "version": "3.10.11"
  }
 },
 "nbformat": 4,
 "nbformat_minor": 5
}
